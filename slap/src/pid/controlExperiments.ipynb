{
 "cells": [
  {
   "cell_type": "markdown",
   "metadata": {},
   "source": [
    "# Introduction\n",
    "\n",
    "The set of experiments below explore different control functions using PID algorithm. This an [incremental approach](https://www.sciencedirect.com/topics/computer-science/incremental-development) to the development of the control system. [cite]\n",
    "\n"
   ]
  },
  {
   "cell_type": "markdown",
   "metadata": {},
   "source": [
    "## Exp 1 | Simple 1D Rocket Control\n",
    "\n",
    "In this experiment I am using PID to control a simple model of a rocket in one vertical dimension. The rocket is trying to maintain a constant height, however it is being accelerated downward constantly at a rate of $ 9.81ms^{-2} $. Its new velocity after a descrete time period, dt is being calculated via the equation :\n",
    "\n",
    "$ v_{n+1} = v_n dt + (\\frac 1 2 a)dt^2 $ "
   ]
  },
  {
   "cell_type": "code",
   "execution_count": 1,
   "metadata": {},
   "outputs": [
    {
     "ename": "AttributeError",
     "evalue": "'Rocket' object has no attribute 'getPos'",
     "output_type": "error",
     "traceback": [
      "\u001b[1;31m---------------------------------------------------------------------------\u001b[0m",
      "\u001b[1;31mAttributeError\u001b[0m                            Traceback (most recent call last)",
      "Cell \u001b[1;32mIn[1], line 47\u001b[0m\n\u001b[0;32m     44\u001b[0m         time\u001b[38;5;241m.\u001b[39msleep(\u001b[38;5;241m0.01\u001b[39m)\n\u001b[0;32m     45\u001b[0m     plot(posPoints)\n\u001b[1;32m---> 47\u001b[0m \u001b[43mMain\u001b[49m\u001b[43m(\u001b[49m\u001b[43m)\u001b[49m\n",
      "Cell \u001b[1;32mIn[1], line 32\u001b[0m, in \u001b[0;36mMain\u001b[1;34m()\u001b[0m\n\u001b[0;32m     29\u001b[0m \u001b[38;5;28;01mdef\u001b[39;00m\u001b[38;5;250m \u001b[39m\u001b[38;5;21mMain\u001b[39m():\n\u001b[0;32m     31\u001b[0m     x \u001b[38;5;241m=\u001b[39m \u001b[38;5;241m0\u001b[39m\n\u001b[1;32m---> 32\u001b[0m     pos \u001b[38;5;241m=\u001b[39m \u001b[43msim\u001b[49m\u001b[38;5;241;43m.\u001b[39;49m\u001b[43mgetPos\u001b[49m()\n\u001b[0;32m     34\u001b[0m     \u001b[38;5;28;01mwhile\u001b[39;00m(x \u001b[38;5;241m<\u001b[39m \u001b[38;5;241m100\u001b[39m):\n\u001b[0;32m     35\u001b[0m         power \u001b[38;5;241m=\u001b[39m controller\u001b[38;5;241m.\u001b[39mpid(pos, target, dt)\n",
      "\u001b[1;31mAttributeError\u001b[0m: 'Rocket' object has no attribute 'getPos'"
     ]
    }
   ],
   "source": [
    "import sys\n",
    "import os\n",
    "import time\n",
    "from experiments.oneDRocket.rocketModel import Rocket\n",
    "from experiments.pidModule import PidController\n",
    "#from experiments.plotter import Visual\n",
    "import matplotlib.pyplot as plt\n",
    "\n",
    "sim = Rocket()\n",
    "#visual = Visual()\n",
    "\n",
    "# --- GAINS ---\n",
    "KP = 1\n",
    "KI = 1\n",
    "KD = 1\n",
    "\n",
    "target = 0\n",
    "dt = 1\n",
    "posPoints = []\n",
    "controller = PidController(KP, KI, KD)\n",
    "\n",
    "def addXVal(pos):\n",
    "    posPoints.append(pos)\n",
    "\n",
    "def plot(posPoints):\n",
    "    plt.plot(posPoints)\n",
    "    plt.show()\n",
    "\n",
    "def Main():\n",
    "\n",
    "    x = 0\n",
    "    pos = sim.getPos()\n",
    "\n",
    "    while(x < 100):\n",
    "        power = controller.pid(pos, target, dt)\n",
    "        sim.update(power, dt)\n",
    "        pos = sim.getPos()\n",
    "        addXVal(pos)\n",
    "        #visual.visual(pos)\n",
    "        print(pos,\"| Thrust = \", power)\n",
    "        x = x +1\n",
    "        #print(x)\n",
    "\n",
    "        time.sleep(0.01)\n",
    "    plot(posPoints)\n",
    "\n",
    "Main()"
   ]
  },
  {
   "cell_type": "markdown",
   "metadata": {},
   "source": [
    "## Exp 2 | Simple Boat Model\n",
    "\n",
    "In this experiment I am using PID to control a simple model of a boat turning in response to the angle of the rudder.\n",
    "\n",
    "Set out below is the mathmatics behind this simple boat model\n",
    "\n",
    "(maths)"
   ]
  },
  {
   "cell_type": "code",
   "execution_count": null,
   "metadata": {},
   "outputs": [],
   "source": [
    "import boatv1model\n",
    "import pid\n",
    "import tester\n",
    "\n",
    "set constants: p,i,d\n",
    "set constant: target heading\n",
    "using tester with boatv1 model and pid\n",
    "plot the boat heading over time"
   ]
  },
  {
   "cell_type": "markdown",
   "metadata": {},
   "source": [
    "## Exp 3 | Advanced Boat Model\n",
    "\n",
    "In this experiment I am using PID to control a advanced model of a boat turning in response to the angle of the rudder, where the boat turn in response to the rudder angle has a time lag.\n",
    "\n",
    "Set out below is the mathmatics behind this advanced boat model, where the change in the turn is described by a differential equation.\n",
    "\n",
    "(maths)\n",
    "\n",
    "![image](./experiments/oneDRocket/boatCourse.excalidraw.png)"
   ]
  },
  {
   "cell_type": "code",
   "execution_count": null,
   "metadata": {},
   "outputs": [],
   "source": [
    "import boatv2model\n",
    "import pid\n",
    "import tester\n",
    "\n",
    "set constants: p,i,d\n",
    "set constant: target heading\n",
    "using tester with boatv2 model and pid\n",
    "plot the boat heading over time"
   ]
  },
  {
   "cell_type": "markdown",
   "metadata": {},
   "source": [
    "## Estimates of scaling\n",
    "\n",
    "### Rudder Action\n",
    "\n",
    "To understand the rudders action on the boat, some simple assumptions can be made:\n",
    "- The rudder action is over + or - 25 degrees maximum\n",
    "- When the rudder is fully over (i.e 25 deg), the boat moves over 90 degrees at 5 knots takes 10 seconds"
   ]
  },
  {
   "cell_type": "markdown",
   "metadata": {},
   "source": [
    "## Direction of Control\n",
    "\n",
    "We need to understand how to deal with which direction to turn in and the difference between a target heading and an actual heading\n",
    "\n",
    "\n",
    "![steering](steering.drawio.png)\n",
    "\n"
   ]
  }
 ],
 "metadata": {
  "kernelspec": {
   "display_name": "Python 3",
   "language": "python",
   "name": "python3"
  },
  "language_info": {
   "codemirror_mode": {
    "name": "ipython",
    "version": 3
   },
   "file_extension": ".py",
   "mimetype": "text/x-python",
   "name": "python",
   "nbconvert_exporter": "python",
   "pygments_lexer": "ipython3",
   "version": "3.11.9"
  }
 },
 "nbformat": 4,
 "nbformat_minor": 2
}
