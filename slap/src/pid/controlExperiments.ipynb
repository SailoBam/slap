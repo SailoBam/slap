{
 "cells": [
  {
   "cell_type": "markdown",
   "metadata": {},
   "source": [
    "# Introduction\n",
    "\n",
    "The set of experiments below explore different control functions using PID algorithm. This an [incremental approach](https://www.sciencedirect.com/topics/computer-science/incremental-development) to the development of the control system. \n",
    "\n",
    "\n",
    "Here is my nifty citation {cite}`perez2011python`.\n"
   ]
  },
  {
   "cell_type": "markdown",
   "metadata": {},
   "source": [
    "## Exp 1 | Simple 1D Rocket Control\n",
    "\n",
    "In this experiment I am using PID to control a simple model of a rocket in one vertical dimension. The rocket is trying to maintain a constant height, however it is being accelerated downward constantly at a rate of $9.81ms^{-2}$. Its new velocity after a descrete time period, dt is being calculated via the equation :\n",
    "\n",
    "$v_{n+1} = v_n dt + (\\frac 1 2 a)dt^2$ "
   ]
  },
  {
   "cell_type": "code",
   "execution_count": 20,
   "metadata": {},
   "outputs": [
    {
     "ename": "RuntimeError",
     "evalue": "main thread is not in main loop",
     "output_type": "error",
     "traceback": [
      "\u001b[1;31m---------------------------------------------------------------------------\u001b[0m",
      "\u001b[1;31mRuntimeError\u001b[0m                              Traceback (most recent call last)",
      "Cell \u001b[1;32mIn[20], line 13\u001b[0m\n\u001b[0;32m     10\u001b[0m \u001b[38;5;28;01mimport\u001b[39;00m\u001b[38;5;250m \u001b[39m\u001b[38;5;21;01mmatplotlib\u001b[39;00m\u001b[38;5;21;01m.\u001b[39;00m\u001b[38;5;21;01mpyplot\u001b[39;00m\u001b[38;5;250m \u001b[39m\u001b[38;5;28;01mas\u001b[39;00m\u001b[38;5;250m \u001b[39m\u001b[38;5;21;01mplt\u001b[39;00m\n\u001b[0;32m     12\u001b[0m sim \u001b[38;5;241m=\u001b[39m Rocket()\n\u001b[1;32m---> 13\u001b[0m visual \u001b[38;5;241m=\u001b[39m \u001b[43mVisual\u001b[49m\u001b[43m(\u001b[49m\u001b[43m)\u001b[49m\n\u001b[0;32m     15\u001b[0m \u001b[38;5;66;03m# --- GAINS ---\u001b[39;00m\n\u001b[0;32m     16\u001b[0m KP \u001b[38;5;241m=\u001b[39m \u001b[38;5;241m1\u001b[39m\n",
      "File \u001b[1;32mc:\\Users\\franc\\vscode\\projects\\slap\\slap\\src\\pid\\experiments\\plotter.py:11\u001b[0m, in \u001b[0;36mVisual.__init__\u001b[1;34m(self)\u001b[0m\n\u001b[0;32m      9\u001b[0m MARK_X \u001b[38;5;241m=\u001b[39m \u001b[38;5;241m15\u001b[39m\n\u001b[0;32m     10\u001b[0m MARK_Y \u001b[38;5;241m=\u001b[39m \u001b[38;5;241m0\u001b[39m\n\u001b[1;32m---> 11\u001b[0m marker \u001b[38;5;241m=\u001b[39m \u001b[43mturtle\u001b[49m\u001b[38;5;241;43m.\u001b[39;49m\u001b[43mTurtle\u001b[49m\u001b[43m(\u001b[49m\u001b[43m)\u001b[49m\n\u001b[0;32m     12\u001b[0m marker\u001b[38;5;241m.\u001b[39mcolor(\u001b[38;5;124m\"\u001b[39m\u001b[38;5;124mred\u001b[39m\u001b[38;5;124m\"\u001b[39m)\n\u001b[0;32m     13\u001b[0m marker\u001b[38;5;241m.\u001b[39mspeed(\u001b[38;5;241m1000\u001b[39m)\n",
      "File \u001b[1;32mC:\\Program Files\\WindowsApps\\PythonSoftwareFoundation.Python.3.11_3.11.2544.0_x64__qbz5n2kfra8p0\\Lib\\turtle.py:3831\u001b[0m, in \u001b[0;36mTurtle.__init__\u001b[1;34m(self, shape, undobuffersize, visible)\u001b[0m\n\u001b[0;32m   3829\u001b[0m \u001b[38;5;28;01mif\u001b[39;00m Turtle\u001b[38;5;241m.\u001b[39m_screen \u001b[38;5;129;01mis\u001b[39;00m \u001b[38;5;28;01mNone\u001b[39;00m:\n\u001b[0;32m   3830\u001b[0m     Turtle\u001b[38;5;241m.\u001b[39m_screen \u001b[38;5;241m=\u001b[39m Screen()\n\u001b[1;32m-> 3831\u001b[0m \u001b[43mRawTurtle\u001b[49m\u001b[38;5;241;43m.\u001b[39;49m\u001b[38;5;21;43m__init__\u001b[39;49m\u001b[43m(\u001b[49m\u001b[38;5;28;43mself\u001b[39;49m\u001b[43m,\u001b[49m\u001b[43m \u001b[49m\u001b[43mTurtle\u001b[49m\u001b[38;5;241;43m.\u001b[39;49m\u001b[43m_screen\u001b[49m\u001b[43m,\u001b[49m\n\u001b[0;32m   3832\u001b[0m \u001b[43m                   \u001b[49m\u001b[43mshape\u001b[49m\u001b[38;5;241;43m=\u001b[39;49m\u001b[43mshape\u001b[49m\u001b[43m,\u001b[49m\n\u001b[0;32m   3833\u001b[0m \u001b[43m                   \u001b[49m\u001b[43mundobuffersize\u001b[49m\u001b[38;5;241;43m=\u001b[39;49m\u001b[43mundobuffersize\u001b[49m\u001b[43m,\u001b[49m\n\u001b[0;32m   3834\u001b[0m \u001b[43m                   \u001b[49m\u001b[43mvisible\u001b[49m\u001b[38;5;241;43m=\u001b[39;49m\u001b[43mvisible\u001b[49m\u001b[43m)\u001b[49m\n",
      "File \u001b[1;32mC:\\Program Files\\WindowsApps\\PythonSoftwareFoundation.Python.3.11_3.11.2544.0_x64__qbz5n2kfra8p0\\Lib\\turtle.py:2545\u001b[0m, in \u001b[0;36mRawTurtle.__init__\u001b[1;34m(self, canvas, shape, undobuffersize, visible)\u001b[0m\n\u001b[0;32m   2543\u001b[0m TPen\u001b[38;5;241m.\u001b[39m\u001b[38;5;21m__init__\u001b[39m(\u001b[38;5;28mself\u001b[39m)\n\u001b[0;32m   2544\u001b[0m screen\u001b[38;5;241m.\u001b[39m_turtles\u001b[38;5;241m.\u001b[39mappend(\u001b[38;5;28mself\u001b[39m)\n\u001b[1;32m-> 2545\u001b[0m \u001b[38;5;28mself\u001b[39m\u001b[38;5;241m.\u001b[39mdrawingLineItem \u001b[38;5;241m=\u001b[39m \u001b[43mscreen\u001b[49m\u001b[38;5;241;43m.\u001b[39;49m\u001b[43m_createline\u001b[49m\u001b[43m(\u001b[49m\u001b[43m)\u001b[49m\n\u001b[0;32m   2546\u001b[0m \u001b[38;5;28mself\u001b[39m\u001b[38;5;241m.\u001b[39mturtle \u001b[38;5;241m=\u001b[39m _TurtleImage(screen, shape)\n\u001b[0;32m   2547\u001b[0m \u001b[38;5;28mself\u001b[39m\u001b[38;5;241m.\u001b[39m_poly \u001b[38;5;241m=\u001b[39m \u001b[38;5;28;01mNone\u001b[39;00m\n",
      "File \u001b[1;32mC:\\Program Files\\WindowsApps\\PythonSoftwareFoundation.Python.3.11_3.11.2544.0_x64__qbz5n2kfra8p0\\Lib\\turtle.py:527\u001b[0m, in \u001b[0;36mTurtleScreenBase._createline\u001b[1;34m(self)\u001b[0m\n\u001b[0;32m    524\u001b[0m \u001b[38;5;28;01mdef\u001b[39;00m\u001b[38;5;250m \u001b[39m\u001b[38;5;21m_createline\u001b[39m(\u001b[38;5;28mself\u001b[39m):\n\u001b[0;32m    525\u001b[0m \u001b[38;5;250m    \u001b[39m\u001b[38;5;124;03m\"\"\"Create an invisible line item on canvas self.cv)\u001b[39;00m\n\u001b[0;32m    526\u001b[0m \u001b[38;5;124;03m    \"\"\"\u001b[39;00m\n\u001b[1;32m--> 527\u001b[0m     \u001b[38;5;28;01mreturn\u001b[39;00m \u001b[38;5;28;43mself\u001b[39;49m\u001b[38;5;241;43m.\u001b[39;49m\u001b[43mcv\u001b[49m\u001b[38;5;241;43m.\u001b[39;49m\u001b[43mcreate_line\u001b[49m\u001b[43m(\u001b[49m\u001b[38;5;241;43m0\u001b[39;49m\u001b[43m,\u001b[49m\u001b[43m \u001b[49m\u001b[38;5;241;43m0\u001b[39;49m\u001b[43m,\u001b[49m\u001b[43m \u001b[49m\u001b[38;5;241;43m0\u001b[39;49m\u001b[43m,\u001b[49m\u001b[43m \u001b[49m\u001b[38;5;241;43m0\u001b[39;49m\u001b[43m,\u001b[49m\u001b[43m \u001b[49m\u001b[43mfill\u001b[49m\u001b[38;5;241;43m=\u001b[39;49m\u001b[38;5;124;43m\"\u001b[39;49m\u001b[38;5;124;43m\"\u001b[39;49m\u001b[43m,\u001b[49m\u001b[43m \u001b[49m\u001b[43mwidth\u001b[49m\u001b[38;5;241;43m=\u001b[39;49m\u001b[38;5;241;43m2\u001b[39;49m\u001b[43m,\u001b[49m\n\u001b[0;32m    528\u001b[0m \u001b[43m                               \u001b[49m\u001b[43mcapstyle\u001b[49m\u001b[43m \u001b[49m\u001b[38;5;241;43m=\u001b[39;49m\u001b[43m \u001b[49m\u001b[43mTK\u001b[49m\u001b[38;5;241;43m.\u001b[39;49m\u001b[43mROUND\u001b[49m\u001b[43m)\u001b[49m\n",
      "File \u001b[1;32m<string>:1\u001b[0m, in \u001b[0;36mcreate_line\u001b[1;34m(self, *args, **kw)\u001b[0m\n",
      "File \u001b[1;32mC:\\Program Files\\WindowsApps\\PythonSoftwareFoundation.Python.3.11_3.11.2544.0_x64__qbz5n2kfra8p0\\Lib\\tkinter\\__init__.py:2867\u001b[0m, in \u001b[0;36mCanvas.create_line\u001b[1;34m(self, *args, **kw)\u001b[0m\n\u001b[0;32m   2865\u001b[0m \u001b[38;5;28;01mdef\u001b[39;00m\u001b[38;5;250m \u001b[39m\u001b[38;5;21mcreate_line\u001b[39m(\u001b[38;5;28mself\u001b[39m, \u001b[38;5;241m*\u001b[39margs, \u001b[38;5;241m*\u001b[39m\u001b[38;5;241m*\u001b[39mkw):\n\u001b[0;32m   2866\u001b[0m \u001b[38;5;250m    \u001b[39m\u001b[38;5;124;03m\"\"\"Create line with coordinates x1,y1,...,xn,yn.\"\"\"\u001b[39;00m\n\u001b[1;32m-> 2867\u001b[0m     \u001b[38;5;28;01mreturn\u001b[39;00m \u001b[38;5;28;43mself\u001b[39;49m\u001b[38;5;241;43m.\u001b[39;49m\u001b[43m_create\u001b[49m\u001b[43m(\u001b[49m\u001b[38;5;124;43m'\u001b[39;49m\u001b[38;5;124;43mline\u001b[39;49m\u001b[38;5;124;43m'\u001b[39;49m\u001b[43m,\u001b[49m\u001b[43m \u001b[49m\u001b[43margs\u001b[49m\u001b[43m,\u001b[49m\u001b[43m \u001b[49m\u001b[43mkw\u001b[49m\u001b[43m)\u001b[49m\n",
      "File \u001b[1;32mC:\\Program Files\\WindowsApps\\PythonSoftwareFoundation.Python.3.11_3.11.2544.0_x64__qbz5n2kfra8p0\\Lib\\tkinter\\__init__.py:2849\u001b[0m, in \u001b[0;36mCanvas._create\u001b[1;34m(self, itemType, args, kw)\u001b[0m\n\u001b[0;32m   2847\u001b[0m \u001b[38;5;28;01melse\u001b[39;00m:\n\u001b[0;32m   2848\u001b[0m     cnf \u001b[38;5;241m=\u001b[39m {}\n\u001b[1;32m-> 2849\u001b[0m \u001b[38;5;28;01mreturn\u001b[39;00m \u001b[38;5;28mself\u001b[39m\u001b[38;5;241m.\u001b[39mtk\u001b[38;5;241m.\u001b[39mgetint(\u001b[38;5;28;43mself\u001b[39;49m\u001b[38;5;241;43m.\u001b[39;49m\u001b[43mtk\u001b[49m\u001b[38;5;241;43m.\u001b[39;49m\u001b[43mcall\u001b[49m\u001b[43m(\u001b[49m\n\u001b[0;32m   2850\u001b[0m \u001b[43m    \u001b[49m\u001b[38;5;28;43mself\u001b[39;49m\u001b[38;5;241;43m.\u001b[39;49m\u001b[43m_w\u001b[49m\u001b[43m,\u001b[49m\u001b[43m \u001b[49m\u001b[38;5;124;43m'\u001b[39;49m\u001b[38;5;124;43mcreate\u001b[39;49m\u001b[38;5;124;43m'\u001b[39;49m\u001b[43m,\u001b[49m\u001b[43m \u001b[49m\u001b[43mitemType\u001b[49m\u001b[43m,\u001b[49m\n\u001b[0;32m   2851\u001b[0m \u001b[43m    \u001b[49m\u001b[38;5;241;43m*\u001b[39;49m\u001b[43m(\u001b[49m\u001b[43margs\u001b[49m\u001b[43m \u001b[49m\u001b[38;5;241;43m+\u001b[39;49m\u001b[43m \u001b[49m\u001b[38;5;28;43mself\u001b[39;49m\u001b[38;5;241;43m.\u001b[39;49m\u001b[43m_options\u001b[49m\u001b[43m(\u001b[49m\u001b[43mcnf\u001b[49m\u001b[43m,\u001b[49m\u001b[43m \u001b[49m\u001b[43mkw\u001b[49m\u001b[43m)\u001b[49m\u001b[43m)\u001b[49m\u001b[43m)\u001b[49m)\n",
      "\u001b[1;31mRuntimeError\u001b[0m: main thread is not in main loop"
     ]
    }
   ],
   "source": [
    "import sys\n",
    "sys.path.append('../')\n",
    "import os\n",
    "import time\n",
    "#from .experiments.pidModule import PidController\n",
    "#from .experiments.oneDRocket.rocketModel import Rocket\n",
    "from slap.src.pid.experiments.pidModule import PidController\n",
    "from slap.src.pid.experiments.oneDRocket.rocketModel import Rocket\n",
    "from slap.src.pid.experiments.plotter import Visual\n",
    "import matplotlib.pyplot as plt\n",
    "\n",
    "sim = Rocket()\n",
    "visual = Visual()\n",
    "\n",
    "# --- GAINS ---\n",
    "KP = 1\n",
    "KI = 1\n",
    "KD = 1\n",
    "\n",
    "target = 0\n",
    "dt = 1\n",
    "posPoints = []\n",
    "controller = PidController(KP, KI, KD)\n",
    "\n",
    "def addXVal(pos):\n",
    "    posPoints.append(pos)\n",
    "\n",
    "def plot(posPoints):\n",
    "    plt.plot(posPoints)\n",
    "    plt.show()\n",
    "\n",
    "def Main():\n",
    "\n",
    "    x = 0\n",
    "    pos = sim.get_Current()\n",
    "\n",
    "    while(x < 100):\n",
    "        power = controller.pid(pos, target, dt)\n",
    "        sim.update(power, dt)\n",
    "        pos = sim.get_Current()\n",
    "        addXVal(pos)\n",
    "        #visual.visual(pos)\n",
    "        print(pos,\"| Thrust = \", power)\n",
    "        x = x +1\n",
    "        #print(x)\n",
    "\n",
    "        time.sleep(0.01)\n",
    "    plot(posPoints)\n",
    "\n",
    "Main()"
   ]
  },
  {
   "cell_type": "markdown",
   "metadata": {},
   "source": [
    "## Exp 2 | Simple Boat Model\n",
    "\n",
    "In this experiment I am using PID to control a simple model of a boat turning in response to the angle of the rudder.\n",
    "\n",
    "Set out below is the mathmatics behind this simple boat model\n",
    "\n",
    "(maths)"
   ]
  },
  {
   "cell_type": "code",
   "execution_count": null,
   "metadata": {},
   "outputs": [],
   "source": [
    "import boatv1model\n",
    "import pid\n",
    "import tester\n",
    "\n",
    "set constants: p,i,d\n",
    "set constant: target heading\n",
    "using tester with boatv1 model and pid\n",
    "plot the boat heading over time"
   ]
  },
  {
   "cell_type": "markdown",
   "metadata": {},
   "source": [
    "## Exp 3 | Advanced Boat Model\n",
    "\n",
    "In this experiment I am using PID to control a advanced model of a boat turning in response to the angle of the rudder, where the boat turn in response to the rudder angle has a time lag.\n",
    "\n",
    "Set out below is the mathmatics behind this advanced boat model, where the change in the turn is described by a differential equation.\n",
    "\n",
    "(maths)\n",
    "\n",
    "![image](./experiments/oneDRocket/boatCourse.excalidraw.png)"
   ]
  },
  {
   "cell_type": "code",
   "execution_count": null,
   "metadata": {},
   "outputs": [],
   "source": [
    "import boatv2model\n",
    "import pid\n",
    "import tester\n",
    "\n",
    "set constants: p,i,d\n",
    "set constant: target heading\n",
    "using tester with boatv2 model and pid\n",
    "plot the boat heading over time"
   ]
  },
  {
   "cell_type": "markdown",
   "metadata": {},
   "source": [
    "## Estimates of scaling\n",
    "\n",
    "### Rudder Action\n",
    "\n",
    "To understand the rudders action on the boat, some simple assumptions can be made:\n",
    "- The rudder action is over + or - 25 degrees maximum\n",
    "- When the rudder is fully over (i.e 25 deg), the boat moves over 90 degrees at 5 knots takes 10 seconds"
   ]
  },
  {
   "cell_type": "markdown",
   "metadata": {},
   "source": [
    "## Direction of Control\n",
    "\n",
    "We need to understand how to deal with which direction to turn in and the difference between a target heading and an actual heading\n",
    "\n",
    "\n",
    "![steering](steering.drawio.png)\n",
    "\n"
   ]
  }
 ],
 "metadata": {
  "kernelspec": {
   "display_name": "Python 3",
   "language": "python",
   "name": "python3"
  },
  "language_info": {
   "codemirror_mode": {
    "name": "ipython",
    "version": 3
   },
   "file_extension": ".py",
   "mimetype": "text/x-python",
   "name": "python",
   "nbconvert_exporter": "python",
   "pygments_lexer": "ipython3",
   "version": "3.11.9"
  }
 },
 "nbformat": 4,
 "nbformat_minor": 2
}
