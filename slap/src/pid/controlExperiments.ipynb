{
 "cells": [
  {
   "cell_type": "markdown",
   "metadata": {},
   "source": [
    "# Introduction\n",
    "\n",
    "The set of experiments below explore different control functions using PID algorithm. This an [incremental approach](https://www.sciencedirect.com/topics/computer-science/incremental-development) to the development of the control system. [cite]\n",
    "\n"
   ]
  },
  {
   "cell_type": "markdown",
   "metadata": {},
   "source": [
    "## Exp 1 | Simple 1D Rocket Control\n",
    "\n",
    "In this experiment I am using PID to control a simple model of a rocket in one vertical dimension. The rocket is trying to maintain a constant height, however it is being accelerated downward constantly at a rate of $ 9.81ms^{-2} $. Its new velocity after a descrete time period, dt is being calculated via the equation :\n",
    "\n",
    "$ v_{n+1} = v_n dt + (\\frac 1 2 a)dt^2 $ "
   ]
  },
  {
   "cell_type": "code",
   "execution_count": 1,
   "metadata": {},
   "outputs": [
    {
     "ename": "ModuleNotFoundError",
     "evalue": "No module named 'matplotlib'",
     "output_type": "error",
     "traceback": [
      "\u001b[1;31m---------------------------------------------------------------------------\u001b[0m",
      "\u001b[1;31mModuleNotFoundError\u001b[0m                       Traceback (most recent call last)",
      "Cell \u001b[1;32mIn[1], line 7\u001b[0m\n\u001b[0;32m      5\u001b[0m \u001b[38;5;28;01mfrom\u001b[39;00m\u001b[38;5;250m \u001b[39m\u001b[38;5;21;01mexperiments\u001b[39;00m\u001b[38;5;21;01m.\u001b[39;00m\u001b[38;5;21;01mpidModule\u001b[39;00m\u001b[38;5;250m \u001b[39m\u001b[38;5;28;01mimport\u001b[39;00m PidController\n\u001b[0;32m      6\u001b[0m \u001b[38;5;66;03m#from experiments.plotter import Visual\u001b[39;00m\n\u001b[1;32m----> 7\u001b[0m \u001b[38;5;28;01mimport\u001b[39;00m\u001b[38;5;250m \u001b[39m\u001b[38;5;21;01mmatplotlib\u001b[39;00m\u001b[38;5;21;01m.\u001b[39;00m\u001b[38;5;21;01mpyplot\u001b[39;00m\u001b[38;5;250m \u001b[39m\u001b[38;5;28;01mas\u001b[39;00m\u001b[38;5;250m \u001b[39m\u001b[38;5;21;01mplt\u001b[39;00m\n\u001b[0;32m      9\u001b[0m sim \u001b[38;5;241m=\u001b[39m Rocket()\n\u001b[0;32m     10\u001b[0m \u001b[38;5;66;03m#visual = Visual()\u001b[39;00m\n\u001b[0;32m     11\u001b[0m \n\u001b[0;32m     12\u001b[0m \u001b[38;5;66;03m# --- GAINS ---\u001b[39;00m\n",
      "\u001b[1;31mModuleNotFoundError\u001b[0m: No module named 'matplotlib'"
     ]
    }
   ],
   "source": [
    "import sys\n",
    "import os\n",
    "import time\n",
    "from experiments.oneDRocket.rocketModel import Rocket\n",
    "from experiments.pidModule import PidController\n",
    "#from experiments.plotter import Visual\n",
    "import matplotlib.pyplot as plt\n",
    "\n",
    "sim = Rocket()\n",
    "#visual = Visual()\n",
    "\n",
    "# --- GAINS ---\n",
    "KP = 1\n",
    "KI = 1\n",
    "KD = 1\n",
    "\n",
    "target = 0\n",
    "dt = 1\n",
    "posPoints = []\n",
    "controller = PidController(KP, KI, KD)\n",
    "\n",
    "def addXVal(pos):\n",
    "    posPoints.append(pos)\n",
    "\n",
    "def plot(posPoints):\n",
    "    plt.plot(posPoints)\n",
    "    plt.show()\n",
    "\n",
    "def Main():\n",
    "\n",
    "    x = 0\n",
    "    pos = sim.getPos()\n",
    "\n",
    "    while(x < 100):\n",
    "        power = controller.pid(pos, target, dt)\n",
    "        sim.update(power, dt)\n",
    "        pos = sim.getPos()\n",
    "        addXVal(pos)\n",
    "        #visual.visual(pos)\n",
    "        print(pos,\"| Thrust = \", power)\n",
    "        x = x +1\n",
    "        #print(x)\n",
    "\n",
    "        time.sleep(0.01)\n",
    "    plot(posPoints)\n",
    "\n",
    "Main()"
   ]
  },
  {
   "cell_type": "markdown",
   "metadata": {},
   "source": [
    "## Exp 2 | Simple Boat Model\n",
    "\n",
    "In this experiment I am using PID to control a simple model of a boat turning in response to the angle of the rudder.\n",
    "\n",
    "Set out below is the mathmatics behind this simple boat model\n",
    "\n",
    "(maths)"
   ]
  },
  {
   "cell_type": "code",
   "execution_count": null,
   "metadata": {},
   "outputs": [],
   "source": [
    "import boatv1model\n",
    "import pid\n",
    "import tester\n",
    "\n",
    "set constants: p,i,d\n",
    "set constant: target heading\n",
    "using tester with boatv1 model and pid\n",
    "plot the boat heading over time"
   ]
  },
  {
   "cell_type": "markdown",
   "metadata": {},
   "source": [
    "## Exp 3 | Advanced Boat Model\n",
    "\n",
    "In this experiment I am using PID to control a advanced model of a boat turning in response to the angle of the rudder, where the boat turn in response to the rudder angle has a time lag.\n",
    "\n",
    "Set out below is the mathmatics behind this advanced boat model, where the change in the turn is described by a differential equation.\n",
    "\n",
    "(maths)\n",
    "\n",
    "![image](./experiments/oneDRocket/boatCourse.excalidraw.png)"
   ]
  },
  {
   "cell_type": "code",
   "execution_count": null,
   "metadata": {},
   "outputs": [],
   "source": [
    "import boatv2model\n",
    "import pid\n",
    "import tester\n",
    "\n",
    "set constants: p,i,d\n",
    "set constant: target heading\n",
    "using tester with boatv2 model and pid\n",
    "plot the boat heading over time"
   ]
  }
 ],
 "metadata": {
  "kernelspec": {
   "display_name": "Python 3",
   "language": "python",
   "name": "python3"
  },
  "language_info": {
   "codemirror_mode": {
    "name": "ipython",
    "version": 3
   },
   "file_extension": ".py",
   "mimetype": "text/x-python",
   "name": "python",
   "nbconvert_exporter": "python",
   "pygments_lexer": "ipython3",
   "version": "3.11.9"
  }
 },
 "nbformat": 4,
 "nbformat_minor": 2
}
