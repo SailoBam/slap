{
 "cells": [
  {
   "cell_type": "markdown",
   "id": "b82685",
   "metadata": {
    "collapsed": false
   },
   "source": [
    "## Mathmatics"
   ]
  },
  {
   "cell_type": "markdown",
   "id": "a18cc6",
   "metadata": {
    "collapsed": false
   },
   "source": [
    "In order to control the movement and direction of the vessel we must first be able to model how the rudders angle affects the boats direction\n",
    "\n",
    "We understand that the rudders angle and boats direction do not respect a linear relationship\n",
    "\n",
    "if we represent the rudder's angle with $\\theta$, and the turning radius of the boat with R we can see that: $R = \\frac{1}{K |\\theta|} $\n",
    "\n",
    "This inversely proptional relationship is proven as we know as the rudders angle increases, the turning radius decreases\n"
   ]
  },
  {
   "cell_type": "markdown",
   "id": "f9dbfa",
   "metadata": {
    "collapsed": false
   },
   "source": [
    "The rate of which the boats heading changes, also known as the angular velocity, $\\omega$, can be represented as the differential of the angle and time: $\\frac{dA}{dt}$ or as the velocity over the radius: $\\frac{v}{R}$."
   ]
  },
  {
   "cell_type": "markdown",
   "id": "4c0468",
   "metadata": {
    "collapsed": false
   },
   "source": [
    "Therefore $\\omega = \\frac{v}{(K|\\theta|)^-1}$, and so: $$\\omega = vK|\\theta|$$"
   ]
  },
  {
   "cell_type": "markdown",
   "id": "6cff47",
   "metadata": {
    "collapsed": false
   },
   "source": [
    "We can simply intergrate this to find the change in angle over time to give : $$ \\Delta\\omega = vK|\\theta|t $$"
   ]
  },
  {
   "cell_type": "markdown",
   "id": "24c7ad",
   "metadata": {
    "collapsed": false
   },
   "source": [
    "However we understand that the boat does not turn to the target radius immediately, there is always some lag between turning the rudder and the target radius being reached.\n",
    "\n"
   ]
  },
  {
   "cell_type": "markdown",
   "id": "8282df",
   "metadata": {
    "collapsed": false
   },
   "source": [
    "The turn rate follows an exponential decay until it reaches the target, the standard decay equation is $ N_{t+1} = N_{t} - e^{-\\lambda t} $\n",
    "\n",
    "Where lambda is our decay constant and t is our discrete time value.\n",
    "\n"
   ]
  },
  {
   "cell_type": "markdown",
   "id": "a9df12",
   "metadata": {
    "collapsed": false
   },
   "source": [
    "This can be implemented with our boat applicable values: $$ \\omega(t) = \\omega_{\\infty} \\left( 1 - e^{-t/\\tau} \\right) $$\n"
   ]
  },
  {
   "cell_type": "code",
   "execution_count": 0,
   "id": "2b2732",
   "metadata": {
    "collapsed": false
   },
   "outputs": [
   ],
   "source": [
   ]
  }
 ],
 "metadata": {
  "kernelspec": {
   "argv": [
    "/usr/bin/python3",
    "-m",
    "ipykernel",
    "--HistoryManager.enabled=False",
    "--matplotlib=inline",
    "-c",
    "%config InlineBackend.figure_formats = set(['retina'])\nimport matplotlib; matplotlib.rcParams['figure.figsize'] = (12, 7)",
    "-f",
    "{connection_file}"
   ],
   "display_name": "Python 3 (system-wide)",
   "env": {
   },
   "language": "python",
   "metadata": {
    "cocalc": {
     "description": "Python 3 programming language",
     "priority": 100,
     "url": "https://www.python.org/"
    }
   },
   "name": "python3",
   "resource_dir": "/ext/jupyter/kernels/python3"
  },
  "language_info": {
   "name": "python"
  }
 },
 "nbformat": 4,
 "nbformat_minor": 4
}