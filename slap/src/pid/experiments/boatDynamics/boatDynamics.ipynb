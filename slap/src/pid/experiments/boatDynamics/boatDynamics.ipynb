{
 "cells": [
  {
   "cell_type": "markdown",
   "metadata": {},
   "source": [
    "## Mathmatics"
   ]
  },
  {
   "cell_type": "markdown",
   "metadata": {},
   "source": [
    "In order to control the movement and direction of the vessel we must first be able to model how the rudders angle affects the boats direction\n",
    "\n",
    "We understand that the rudders angle and boats direction do not respect a linear relationship\n",
    "\n",
    "if we represent the rudder's angle with $\\theta$, and the turning radius of the boat with R we can see that: $R = \\frac{1}{K |\\theta|} $\n",
    "\n",
    "This inversely proptional relationship is proven as we know as the rudders angle increases, the turning radius decreases\n"
   ]
  },
  {
   "cell_type": "markdown",
   "metadata": {},
   "source": [
    "The rate of which the boats heading changes, also known as the angular velocity, $\\omega$, can be represented as the differential of the angle and time: $\\frac{dA}{dt}$ or as the velocity over the radius: $\\frac{v}{R}$."
   ]
  },
  {
   "cell_type": "markdown",
   "metadata": {},
   "source": [
    "Therefore $\\omega = \\frac{v}{(K|\\theta|)^-1}$, and so: $$\\omega = vK|\\theta|$$"
   ]
  },
  {
   "cell_type": "markdown",
   "metadata": {},
   "source": [
    "We can simply intergrate this to find the change in angle over time to give : $$ \\Delta\\omega = vK|\\theta|t $$"
   ]
  },
  {
   "cell_type": "markdown",
   "metadata": {},
   "source": [
    "However we understand that the boats radius "
   ]
  }
 ],
 "metadata": {
  "language_info": {
   "name": "python"
  }
 },
 "nbformat": 4,
 "nbformat_minor": 2
}
