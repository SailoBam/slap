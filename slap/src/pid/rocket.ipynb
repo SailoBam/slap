{
 "cells": [
  {
   "cell_type": "markdown",
   "metadata": {},
   "source": [
    "# Rocket Dynamics"
   ]
  },
  {
   "cell_type": "markdown",
   "metadata": {},
   "source": [
    "Simple discrete velocity equations for rocket are that the velocity $ v $ is given by :\n",
    "discrete time is a point in time $ t_n $ end is the time interval, $ \\Delta t $ multiplied by n\n",
    "\n",
    "\\begin{equation}\n",
    "v(t_{n+1}) = v(t_n) + \\frac {F \\Delta t} {t}\n",
    "\\end{equation}"
   ]
  },
  {
   "cell_type": "markdown",
   "metadata": {},
   "source": [
    "# Boat Dynamics"
   ]
  },
  {
   "cell_type": "markdown",
   "metadata": {},
   "source": [
    "![image](./boatCourse.excalidraw.png)"
   ]
  },
  {
   "cell_type": "markdown",
   "metadata": {},
   "source": [
    "The same function applies with the boat as we need to know our heading at time, $t$.\n",
    "The new heading, $h$ at time $t$ will be equal to the previous heading, $h_{t-1}$ (assuming discrete timing) plus the rate of change of heading, $\\frac {\\Delta h} {\\Delta t}$ multiplied by the delta time:\n",
    "\n",
    "$h_t = h_{t-1} + \\frac {\\Delta h} {\\Delta t}\\Delta t$\n",
    " \n",
    "\n",
    "We know that $\\frac {\\Delta h} {\\Delta t}$ is equal to the angular velocity, $\\omega$\n",
    "Therefore,\n",
    "\n",
    "$h_t = h_{t-1} + \\omega \\Delta t$\n",
    "\n",
    "Or relative to the angle to time, $t = 0$:\n",
    "\n",
    "$h_n = h_0 + \\omega t_n$\n",
    "\n",
    "If we know how far we move around circumference per second then we can work out how far we have traveled, $d$ (arc length). We know the radius, $r$ will equal a constant, $k$ multiplied by our rudder angle $\\phi$:\n",
    "\n",
    "$r = k\\phi$\n",
    "\n",
    "The angle, $\\theta$ in radians will equal the distance divided by the radius, $r$:\n",
    "\n",
    "$\\frac {d}{r} = \\theta$\n",
    "\n",
    "Therefore the angle, $\\theta = \\frac {d} {k\\phi}$\n",
    "\n",
    "We know the distance (arc length) is equal to the velocity, $v$ multiplied by time, $t$:\n",
    "\n",
    "$\\frac{vt} {k\\phi} = \\theta$\n",
    "\n"
   ]
  },
  {
   "cell_type": "code",
   "execution_count": 1,
   "metadata": {},
   "outputs": [
    {
     "ename": "ModuleNotFoundError",
     "evalue": "No module named 'rocketModel'",
     "output_type": "error",
     "traceback": [
      "\u001b[1;31m---------------------------------------------------------------------------\u001b[0m",
      "\u001b[1;31mModuleNotFoundError\u001b[0m                       Traceback (most recent call last)",
      "Cell \u001b[1;32mIn[1], line 1\u001b[0m\n\u001b[1;32m----> 1\u001b[0m \u001b[38;5;28;01mfrom\u001b[39;00m\u001b[38;5;250m \u001b[39m\u001b[38;5;21;01mrocketModel\u001b[39;00m\u001b[38;5;250m \u001b[39m\u001b[38;5;28;01mimport\u001b[39;00m Main\n\u001b[0;32m      2\u001b[0m Main()\n",
      "\u001b[1;31mModuleNotFoundError\u001b[0m: No module named 'rocketModel'"
     ]
    }
   ],
   "source": [
    "from rocketModel import Main\n",
    "Main()"
   ]
  }
 ],
 "metadata": {
  "kernelspec": {
   "display_name": "Python 3",
   "language": "python",
   "name": "python3"
  },
  "language_info": {
   "codemirror_mode": {
    "name": "ipython",
    "version": 3
   },
   "file_extension": ".py",
   "mimetype": "text/x-python",
   "name": "python",
   "nbconvert_exporter": "python",
   "pygments_lexer": "ipython3",
   "version": "3.11.9"
  }
 },
 "nbformat": 4,
 "nbformat_minor": 2
}
