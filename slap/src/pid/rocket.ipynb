{
 "cells": [
  {
   "cell_type": "markdown",
   "metadata": {},
   "source": [
    "# Rocket Dynamics"
   ]
  },
  {
   "cell_type": "markdown",
   "metadata": {},
   "source": [
    "Simple discrete velocity equations for rocket are that the velocity $ v $ is given by :\n",
    "discrete time is a point in time $ t_n $ end is the time interval, $ \\Delta t $ multiplied by n\n",
    "\n",
    "\\begin{equation}\n",
    "v(t_{n+1}) = v(t_n) + \\frac {F \\Delta t} {t}\n",
    "\\end{equation}"
   ]
  },
  {
   "cell_type": "markdown",
   "metadata": {},
   "source": [
    "# Boat Dynamics"
   ]
  },
  {
   "cell_type": "markdown",
   "metadata": {},
   "source": [
    "![image](./boatCourse.excalidraw.png)"
   ]
  },
  {
   "cell_type": "markdown",
   "metadata": {},
   "source": [
    "The same function applies with the boat as we need to know our heading at time, $t$.\n",
    "The new heading, $h$ at time $t$ will be equal to the previous heading, $h_{t-1}$ (assuming discrete timing) plus the rate of change of heading, $\\frac {\\Delta h} {\\Delta t}$ multiplied by the delta time:\n",
    "\n",
    "$h_t = h_{t-1} + \\frac {\\Delta h} {\\Delta t}\\Delta t$\n",
    " \n",
    "\n",
    "We know that $\\frac {\\Delta h} {\\Delta t}$ is equal to the angular velocity, $\\omega$\n",
    "Therefore,\n",
    "\n",
    "$h_t = h_{t-1} + \\omega \\Delta t$\n",
    "\n",
    "Or relative to the angle to time, $t = 0$:\n",
    "\n",
    "$h_n = h_0 + \\omega t_n$\n",
    "\n",
    "If we know how far we move around circumference per second then we can work out how far we have traveled, $d$ (arc length). We know the radius, $r$ will equal a constant, $k$ multiplied by our rudder angle $\\phi$:\n",
    "\n",
    "$r = k\\phi$\n",
    "\n",
    "The angle, $\\theta$ in radians will equal the distance divided by the radius, $r$:\n",
    "\n",
    "$\\frac {d}{r} = \\theta$\n",
    "\n",
    "Therefore the angle, $\\theta = \\frac {d} {k\\phi}$\n",
    "\n",
    "We know the distance (arc length) is equal to the velocity, $v$ multiplied by time, $t$:\n",
    "\n",
    "$\\frac{vt} {k\\phi} = \\theta$\n",
    "\n"
   ]
  },
  {
   "cell_type": "code",
   "execution_count": 6,
   "metadata": {},
   "outputs": [
    {
     "name": "stdout",
     "output_type": "stream",
     "text": [
      "-52.60070312857529\n",
      "163.5160421968653\n",
      "-245.80004002804765\n",
      "440.9485680290669\n",
      "-718.7118882223892\n",
      "1243.718370466435\n"
     ]
    },
    {
     "ename": "Terminator",
     "evalue": "",
     "output_type": "error",
     "traceback": [
      "\u001b[1;31m---------------------------------------------------------------------------\u001b[0m",
      "\u001b[1;31mTerminator\u001b[0m                                Traceback (most recent call last)",
      "Cell \u001b[1;32mIn[6], line 1\u001b[0m\n\u001b[1;32m----> 1\u001b[0m \u001b[38;5;28;01mfrom\u001b[39;00m \u001b[38;5;21;01mrocketModel\u001b[39;00m \u001b[38;5;28;01mimport\u001b[39;00m Main\n\u001b[0;32m      2\u001b[0m Main()\n",
      "File \u001b[1;32mc:\\Users\\franc\\Documents\\Python Files\\slap\\src\\pid\\rocketModel.py:88\u001b[0m\n\u001b[0;32m     84\u001b[0m     sim \u001b[38;5;241m=\u001b[39m Sim()\n\u001b[0;32m     85\u001b[0m     sim\u001b[38;5;241m.\u001b[39mTick()\n\u001b[1;32m---> 88\u001b[0m \u001b[43mMain\u001b[49m\u001b[43m(\u001b[49m\u001b[43m)\u001b[49m\n",
      "File \u001b[1;32mc:\\Users\\franc\\Documents\\Python Files\\slap\\src\\pid\\rocketModel.py:85\u001b[0m, in \u001b[0;36mMain\u001b[1;34m()\u001b[0m\n\u001b[0;32m     82\u001b[0m \u001b[38;5;28;01mdef\u001b[39;00m \u001b[38;5;21mMain\u001b[39m():\n\u001b[0;32m     84\u001b[0m     sim \u001b[38;5;241m=\u001b[39m Sim()\n\u001b[1;32m---> 85\u001b[0m     \u001b[43msim\u001b[49m\u001b[38;5;241;43m.\u001b[39;49m\u001b[43mTick\u001b[49m\u001b[43m(\u001b[49m\u001b[43m)\u001b[49m\n",
      "File \u001b[1;32mc:\\Users\\franc\\Documents\\Python Files\\slap\\src\\pid\\rocketModel.py:73\u001b[0m, in \u001b[0;36mSim.Tick\u001b[1;34m(self)\u001b[0m\n\u001b[0;32m     71\u001b[0m Cap(thrust)\n\u001b[0;32m     72\u001b[0m \u001b[38;5;28mprint\u001b[39m(thrust)\n\u001b[1;32m---> 73\u001b[0m \u001b[38;5;28;43mself\u001b[39;49m\u001b[38;5;241;43m.\u001b[39;49m\u001b[43mpoint\u001b[49m\u001b[38;5;241;43m.\u001b[39;49m\u001b[43mgoto\u001b[49m\u001b[43m(\u001b[49m\u001b[43mMARK_X\u001b[49m\u001b[43m,\u001b[49m\u001b[43m \u001b[49m\u001b[43mycor\u001b[49m\u001b[43m \u001b[49m\u001b[38;5;241;43m+\u001b[39;49m\u001b[43m \u001b[49m\u001b[43mG\u001b[49m\u001b[43m \u001b[49m\u001b[38;5;241;43m+\u001b[39;49m\u001b[43m \u001b[49m\u001b[43mthrust\u001b[49m\u001b[43m)\u001b[49m\n\u001b[0;32m     74\u001b[0m time\u001b[38;5;241m.\u001b[39msleep(TICK)\n",
      "File \u001b[1;32mC:\\Program Files\\WindowsApps\\PythonSoftwareFoundation.Python.3.12_3.12.2032.0_x64__qbz5n2kfra8p0\\Lib\\turtle.py:1775\u001b[0m, in \u001b[0;36mTNavigator.goto\u001b[1;34m(self, x, y)\u001b[0m\n\u001b[0;32m   1773\u001b[0m     \u001b[38;5;28mself\u001b[39m\u001b[38;5;241m.\u001b[39m_goto(Vec2D(\u001b[38;5;241m*\u001b[39mx))\n\u001b[0;32m   1774\u001b[0m \u001b[38;5;28;01melse\u001b[39;00m:\n\u001b[1;32m-> 1775\u001b[0m     \u001b[38;5;28;43mself\u001b[39;49m\u001b[38;5;241;43m.\u001b[39;49m\u001b[43m_goto\u001b[49m\u001b[43m(\u001b[49m\u001b[43mVec2D\u001b[49m\u001b[43m(\u001b[49m\u001b[43mx\u001b[49m\u001b[43m,\u001b[49m\u001b[43m \u001b[49m\u001b[43my\u001b[49m\u001b[43m)\u001b[49m\u001b[43m)\u001b[49m\n",
      "File \u001b[1;32mC:\\Program Files\\WindowsApps\\PythonSoftwareFoundation.Python.3.12_3.12.2032.0_x64__qbz5n2kfra8p0\\Lib\\turtle.py:3251\u001b[0m, in \u001b[0;36mRawTurtle._goto\u001b[1;34m(self, end)\u001b[0m\n\u001b[0;32m   3247\u001b[0m     \u001b[38;5;28;01mif\u001b[39;00m \u001b[38;5;28mself\u001b[39m\u001b[38;5;241m.\u001b[39m_drawing:\n\u001b[0;32m   3248\u001b[0m         screen\u001b[38;5;241m.\u001b[39m_drawline(\u001b[38;5;28mself\u001b[39m\u001b[38;5;241m.\u001b[39mdrawingLineItem,\n\u001b[0;32m   3249\u001b[0m                          (start, \u001b[38;5;28mself\u001b[39m\u001b[38;5;241m.\u001b[39m_position),\n\u001b[0;32m   3250\u001b[0m                          \u001b[38;5;28mself\u001b[39m\u001b[38;5;241m.\u001b[39m_pencolor, \u001b[38;5;28mself\u001b[39m\u001b[38;5;241m.\u001b[39m_pensize, top)\n\u001b[1;32m-> 3251\u001b[0m     \u001b[38;5;28;43mself\u001b[39;49m\u001b[38;5;241;43m.\u001b[39;49m\u001b[43m_update\u001b[49m\u001b[43m(\u001b[49m\u001b[43m)\u001b[49m\n\u001b[0;32m   3252\u001b[0m \u001b[38;5;28;01mif\u001b[39;00m \u001b[38;5;28mself\u001b[39m\u001b[38;5;241m.\u001b[39m_drawing:\n\u001b[0;32m   3253\u001b[0m     screen\u001b[38;5;241m.\u001b[39m_drawline(\u001b[38;5;28mself\u001b[39m\u001b[38;5;241m.\u001b[39mdrawingLineItem, ((\u001b[38;5;241m0\u001b[39m, \u001b[38;5;241m0\u001b[39m), (\u001b[38;5;241m0\u001b[39m, \u001b[38;5;241m0\u001b[39m)),\n\u001b[0;32m   3254\u001b[0m                                    fill\u001b[38;5;241m=\u001b[39m\u001b[38;5;124m\"\u001b[39m\u001b[38;5;124m\"\u001b[39m, width\u001b[38;5;241m=\u001b[39m\u001b[38;5;28mself\u001b[39m\u001b[38;5;241m.\u001b[39m_pensize)\n",
      "File \u001b[1;32mC:\\Program Files\\WindowsApps\\PythonSoftwareFoundation.Python.3.12_3.12.2032.0_x64__qbz5n2kfra8p0\\Lib\\turtle.py:2668\u001b[0m, in \u001b[0;36mRawTurtle._update\u001b[1;34m(self)\u001b[0m\n\u001b[0;32m   2666\u001b[0m     \u001b[38;5;28;01mreturn\u001b[39;00m\n\u001b[0;32m   2667\u001b[0m \u001b[38;5;28;01melif\u001b[39;00m screen\u001b[38;5;241m.\u001b[39m_tracing \u001b[38;5;241m==\u001b[39m \u001b[38;5;241m1\u001b[39m:\n\u001b[1;32m-> 2668\u001b[0m     \u001b[38;5;28;43mself\u001b[39;49m\u001b[38;5;241;43m.\u001b[39;49m\u001b[43m_update_data\u001b[49m\u001b[43m(\u001b[49m\u001b[43m)\u001b[49m\n\u001b[0;32m   2669\u001b[0m     \u001b[38;5;28mself\u001b[39m\u001b[38;5;241m.\u001b[39m_drawturtle()\n\u001b[0;32m   2670\u001b[0m     screen\u001b[38;5;241m.\u001b[39m_update()                  \u001b[38;5;66;03m# TurtleScreenBase\u001b[39;00m\n",
      "File \u001b[1;32mC:\\Program Files\\WindowsApps\\PythonSoftwareFoundation.Python.3.12_3.12.2032.0_x64__qbz5n2kfra8p0\\Lib\\turtle.py:2654\u001b[0m, in \u001b[0;36mRawTurtle._update_data\u001b[1;34m(self)\u001b[0m\n\u001b[0;32m   2653\u001b[0m \u001b[38;5;28;01mdef\u001b[39;00m \u001b[38;5;21m_update_data\u001b[39m(\u001b[38;5;28mself\u001b[39m):\n\u001b[1;32m-> 2654\u001b[0m     \u001b[38;5;28;43mself\u001b[39;49m\u001b[38;5;241;43m.\u001b[39;49m\u001b[43mscreen\u001b[49m\u001b[38;5;241;43m.\u001b[39;49m\u001b[43m_incrementudc\u001b[49m\u001b[43m(\u001b[49m\u001b[43m)\u001b[49m\n\u001b[0;32m   2655\u001b[0m     \u001b[38;5;28;01mif\u001b[39;00m \u001b[38;5;28mself\u001b[39m\u001b[38;5;241m.\u001b[39mscreen\u001b[38;5;241m.\u001b[39m_updatecounter \u001b[38;5;241m!=\u001b[39m \u001b[38;5;241m0\u001b[39m:\n\u001b[0;32m   2656\u001b[0m         \u001b[38;5;28;01mreturn\u001b[39;00m\n",
      "File \u001b[1;32mC:\\Program Files\\WindowsApps\\PythonSoftwareFoundation.Python.3.12_3.12.2032.0_x64__qbz5n2kfra8p0\\Lib\\turtle.py:1284\u001b[0m, in \u001b[0;36mTurtleScreen._incrementudc\u001b[1;34m(self)\u001b[0m\n\u001b[0;32m   1282\u001b[0m \u001b[38;5;28;01mif\u001b[39;00m \u001b[38;5;129;01mnot\u001b[39;00m TurtleScreen\u001b[38;5;241m.\u001b[39m_RUNNING:\n\u001b[0;32m   1283\u001b[0m     TurtleScreen\u001b[38;5;241m.\u001b[39m_RUNNING \u001b[38;5;241m=\u001b[39m \u001b[38;5;28;01mTrue\u001b[39;00m\n\u001b[1;32m-> 1284\u001b[0m     \u001b[38;5;28;01mraise\u001b[39;00m Terminator\n\u001b[0;32m   1285\u001b[0m \u001b[38;5;28;01mif\u001b[39;00m \u001b[38;5;28mself\u001b[39m\u001b[38;5;241m.\u001b[39m_tracing \u001b[38;5;241m>\u001b[39m \u001b[38;5;241m0\u001b[39m:\n\u001b[0;32m   1286\u001b[0m     \u001b[38;5;28mself\u001b[39m\u001b[38;5;241m.\u001b[39m_updatecounter \u001b[38;5;241m+\u001b[39m\u001b[38;5;241m=\u001b[39m \u001b[38;5;241m1\u001b[39m\n",
      "\u001b[1;31mTerminator\u001b[0m: "
     ]
    }
   ],
   "source": [
    "from rocketModel import Main\n",
    "Main()"
   ]
  }
 ],
 "metadata": {
  "kernelspec": {
   "display_name": "Python 3",
   "language": "python",
   "name": "python3"
  },
  "language_info": {
   "codemirror_mode": {
    "name": "ipython",
    "version": 3
   },
   "file_extension": ".py",
   "mimetype": "text/x-python",
   "name": "python",
   "nbconvert_exporter": "python",
   "pygments_lexer": "ipython3",
   "version": "3.12.8"
  }
 },
 "nbformat": 4,
 "nbformat_minor": 2
}
