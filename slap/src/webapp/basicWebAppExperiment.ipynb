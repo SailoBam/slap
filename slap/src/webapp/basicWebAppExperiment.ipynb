{
 "cells": [
  {
   "cell_type": "markdown",
   "metadata": {},
   "source": [
    "# Introduction\n",
    "\n",
    "This document sets out details of the database for the project.\n",
    "\n",
    "### Database Function\n",
    "\n",
    "Within this project a database will be used to log previous perfomance of the boat stored as trips.\n",
    "\n",
    "### Database Structure \n",
    "\n",
    "The database will consist of 4 tables to decribe trips. The information gathered wil include details about the boat, details about the sensors present and the performance of the boat on that respective trip. The tables are as follows:\n",
    "\n",
    "Boat - Includes information about the boat. It contains the boats name, ID number and boat type\n",
    "\n",
    "Trip - Includes information about a single trip. It contains the trip ID, the assosiated boat's ID, the start and finish time, the distance travelled and the assosiated error ID\n",
    "\n",
    "Error - includes information about a trips performance. It contains the coordinates of the desired and actual destination and a score based on the difference\n",
    "\n",
    "Sensor - Inlcude information about a single sensor. It contains the sensor's ID, the sensor's name, the datatype of the sensor, the sensor's current value and its timestamp, the assosiated trip's ID\n",
    "\n",
    "\n",
    "##### Example Data:\n",
    "\n",
    "Boat - 0, 'frygga', 'tiki 26'\n",
    "\n",
    "Trip - 0, 'Brixham' 0, 00:00:00, 12:34:56, 5, 0\n",
    "Trip - 1, 'torquay' 0, 00:00:00, 12:34:56, 7, 0\n",
    "\n",
    "Error - (0,0), (5,5), 25\n",
    "\n",
    "Sensor - 0, 0, 'wind', integer, 5, 00:00:00\n",
    "Sensor - 1, 0, 'speed', integer, 10, 00:00:00\n",
    "\n",
    "\n",
    "\n",
    "\n",
    "\n"
   ]
  }
 ],
 "metadata": {
  "language_info": {
   "name": "python"
  }
 },
 "nbformat": 4,
 "nbformat_minor": 2
}
