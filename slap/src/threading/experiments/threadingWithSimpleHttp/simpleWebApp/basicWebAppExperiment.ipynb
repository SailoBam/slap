{
 "cells": [
  {
   "cell_type": "markdown",
   "metadata": {},
   "source": [
    "# Introduction\n",
    "\n",
    "In this experimental code I am exploring how to build a basic web application in python. The basic process is that the python web server which returns a html page which includes buttons, when a button is pressed there is an interaction with the server.\n",
    "\n",
    "The following [UML sequence diagram](https://www.visual-paradigm.com/guide/uml-unified-modeling-language/what-is-sequence-diagram/) below shows the basic sequence of interactions between the web server and the browser (client)\n"
   ]
  }
 ],
 "metadata": {
  "language_info": {
   "name": "python"
  }
 },
 "nbformat": 4,
 "nbformat_minor": 2
}
