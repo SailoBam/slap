{
 "cells": [
  {
   "cell_type": "markdown",
   "metadata": {},
   "source": [
    "## Working With Angles\n",
    "\n",
    "Throughout SLAP, the system works with headings and other angles which relate to a compass bearing. This means that the arithmatic within the system needs to operate within the range of 0 - 359 degrees. Therefore we must limit our heading results to this constraint.\n",
    "\n",
    "When considering the sum of angles which exceed the range of 359, we must set the result accordingly."
   ]
  },
  {
   "cell_type": "code",
   "execution_count": null,
   "metadata": {},
   "outputs": [
    {
     "name": "stdout",
     "output_type": "stream",
     "text": [
      "Example 1\n",
      "60\n",
      "Example 2\n",
      "a =  69  b =  310\n",
      "a + b =  379\n",
      "Using the mod function '%'  19\n"
     ]
    }
   ],
   "source": [
    "# EXAMPLE 1\n",
    "# Adding numbers within 359\n",
    "print(\"Example 1\")\n",
    "a = 15\n",
    "b = 45\n",
    "print(a + b)\n",
    "\n",
    "# EXAMPLE 2\n",
    "# Adding numbers which exceed 359\n",
    "print(\"Example 2\")\n",
    "a = 69\n",
    "b = 310\n",
    "print(\"a = \", a, \" b = \", b)\n",
    "print(\"a + b = \", a + b)\n",
    "print(\"Using the mod function '%' \", (a + b)% 360)\n"
   ]
  },
  {
   "cell_type": "markdown",
   "metadata": {},
   "source": [
    "#### Subtracting\n",
    "\n",
    "When considering subtraction we must deal with values which go below 0"
   ]
  },
  {
   "cell_type": "code",
   "execution_count": null,
   "metadata": {},
   "outputs": [
    {
     "name": "stdout",
     "output_type": "stream",
     "text": [
      "Example 1\n",
      "30\n",
      "Example 2\n",
      "a =  10  b =  40\n",
      "a - b =  -30\n",
      "Using the mod function '%'  330\n"
     ]
    }
   ],
   "source": [
    "# EXAMPLE 1\n",
    "# Subtracting numbers within 359\n",
    "print(\"Example 1\")\n",
    "a = 45\n",
    "b = 15\n",
    "print(a - b)\n",
    "\n",
    "# EXAMPLE 2\n",
    "# Subtracting numbers which cross 0\n",
    "print(\"Example 2\")\n",
    "a = 10\n",
    "b = 40\n",
    "print(\"a = \", a, \" b = \", b)\n",
    "print(\"a - b = \", a - b)\n",
    "print(\"Using the mod function '%' \", (a - b)% 360)"
   ]
  },
  {
   "cell_type": "markdown",
   "metadata": {},
   "source": [
    "The above examples are correct and mod function is useful in this context. However there are other situtations where we need a different answer. These examples only provide the position, we want the difference in position."
   ]
  },
  {
   "cell_type": "code",
   "execution_count": null,
   "metadata": {},
   "outputs": [
    {
     "name": "stdout",
     "output_type": "stream",
     "text": [
      "c:  181\n",
      "|a - b| =  181\n",
      "179\n",
      "-179\n"
     ]
    }
   ],
   "source": [
    "# EXAMPLE 1\n",
    "# We want to find the smallest difference in heading to determine the shortest path to the target heading\n",
    "a = 10\n",
    "b = 191\n",
    "c = b - a\n",
    "\n",
    "if c > 180:\n",
    "    c = c - 360\n",
    "elif c < -180:\n",
    "    c = c + 360\n",
    "\n",
    "print(c)\n",
    "\n"
   ]
  }
 ],
 "metadata": {
  "kernelspec": {
   "display_name": "Python 3",
   "language": "python",
   "name": "python3"
  },
  "language_info": {
   "codemirror_mode": {
    "name": "ipython",
    "version": 3
   },
   "file_extension": ".py",
   "mimetype": "text/x-python",
   "name": "python",
   "nbconvert_exporter": "python",
   "pygments_lexer": "ipython3",
   "version": "3.11.9"
  }
 },
 "nbformat": 4,
 "nbformat_minor": 2
}
