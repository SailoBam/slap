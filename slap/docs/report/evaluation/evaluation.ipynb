{
 "cells": [
  {
   "cell_type": "markdown",
   "metadata": {},
   "source": [
    "# Evaluation"
   ]
  },
  {
   "cell_type": "markdown",
   "metadata": {},
   "source": [
    "## Introduction\n",
    "\n",
    "This section is an evaluation of the project. The first section is based on user feedback, followed by an evaluation of each project objective against the system's preformance. This is followed a section on further improvements"
   ]
  },
  {
   "cell_type": "markdown",
   "metadata": {},
   "source": [
    "## General User Feedback\n",
    "\n",
    "The following feedback from one of the users who completed the requirements questionaire.\n",
    "\n",
    "\"I have used Francis' SLAP program which I accessed via the internet on my phone. I understood that this is the same as if I was using the system on my boat. Francis gave me a short tutorial explaining how to use the system and how to engage the simulator mode.\"\n",
    "\n",
    "\"I found the user interface easy to understand, perticularly because the functions of the system are as I would expect from other auto pilots. I used the simulator mode and then engaged the auto pilot imagining that I was the boat. I could see that the control system maintained the boat heading closely against the desired heading when the pilot is engaged. I was able to use the adjustment buttons to alter course as if I were avoiding obsticals. I was able to engage and disengage as and when needed. For example when I am tacking the boat.\"\n",
    "\n",
    "\"I found the compass display on the phone to be a useful addition to what you would normal see on an auto pilot. The ability to create trip logs is a nice feature not seen on most auto pilots. I thought it was very impressive that the logs could be uploaded to the internet to view at home.\"\n",
    "\n",
    "\"Overall I found the project to be impressive, and I am quite keen to have a go with the actuator really controlling the trim tabs on my boat to adjust the steering. An unexpected feature of Francis' system is the low power consumption. From my experience the problem with commercial auto pilots is that it uses too much power as they must drive the rudders directly. With this system connected to the trim tabs the system can turn the rudder with little force requiring less power improving the feasiblility of engaging the auto pilot for many hours.\""
   ]
  },
  {
   "cell_type": "markdown",
   "metadata": {},
   "source": [
    "## Evaluation against objectives\n",
    "\n",
    "The following table lists the specific objectives from the Analysis section.\n",
    "\n",
    "| **Objective**  | **Summary** | **Evaluation** | **Method** | **Status** |\n",
    "|------------|---------|------------|--------|--------|\n",
    "| 1 | Maintain a steady course within ±5 degrees using a closed-loop control algorithm | The PID controller successfully maintains course within ±5 degrees in simulator testing | Visually monitor the system for 10 minutes | Complete |\n",
    "| 2 | Provide manual parameter tuning interface allowing configuration of the control system | Users can adjust heading via UI buttons and compass display | UI controls for course adjustment implemented and validated through manual testing | Complete |\n",
    "| 3 | Maintain autonomous control for a minimum duration of 10 minutes | System can run continuously for extended periods in simulator | Extended simulator testing sessions conducted | Complete |\n",
    "| 4 | Provide a simulation feature to enable development of a prototype to be tested on real boat | Large buttons, clear compass display, high contrast design | User testing and feedback from experienced sailors | Complete |\n",
    "| 5 | Implement a web interface with large touch controls and information displays | All course data and adjustments logged to database | Database logging implemented and verified | Complete |\n",
    "| 6 | Log GPS positions (waypoints) for the boat's trips | MongoDB database stores all trip data with unique IDs | Database schema designed and implemented | Complete |\n",
    "| 7 | Store trip data including start/end times in a trips table | Mapbox integration allows viewing saved routes | Map display and route plotting tested | Complete |\n",
    "| 8 | Include all the features described in the user journey | PID controller makes continuous adjustments based on sensor data | Real-time control loop implemented and tested | Complete |\n"
   ]
  },
  {
   "cell_type": "markdown",
   "metadata": {},
   "source": [
    "## Future Improvements"
   ]
  },
  {
   "cell_type": "markdown",
   "metadata": {},
   "source": [
    "- Viewing the maps from mapbox on the mobile should be completed. At present you must visit mapbox to view the uploaded plots.\n",
    "\n",
    "- A method of allowing the SLAP RPi to connect to a public WiFi and provide a hotspot for the users mobile phone is required for maps to be uploaded and viewed.\n",
    "\n",
    "- A button to set the target heading to the actual heading should be added, at present you must enter the desired heading manually\n",
    "\n",
    "- The accelerometer can be used to measure the boats actions, therefore the state of the sea and feed this into the PID algorithm as an overall gain\n",
    "\n",
    "- Add a GPS lock indicator to the main page"
   ]
  },
  {
   "cell_type": "markdown",
   "metadata": {},
   "source": [
    "# Appendix A - Requirements Questionaire"
   ]
  },
  {
   "cell_type": "markdown",
   "metadata": {},
   "source": [
    "Hand steering the boat onto the desired course and trimming the sails ready to balance the boat to engage the autopilot. Once using the autopilot I would be keeping an eye on the course from time to time. If the wind changed, I would need to alter the sails and the pilot to stay on course. When finishing I want a quick way of disconnecting it.\n",
    "\n",
    "\n",
    "Get the boat sailing on required course with sails trimmed accordingly.\n",
    "Switch on autopilot to continue on desired course.\n",
    "Might need to interact with autopilot to avoid obstacles ahead eg other boats, buoys etc. Once clear of an obstruction set autopilot back on desired course.\n",
    "If I need to change direction, eg rounding a headland then I would adjust the course again using the controls on the autopilot.\n",
    "If I have to tack, I would put the autopilot on standby and once settled on the new tack, give control back to the autopilot.\n",
    "Once arrived at my destination I would switch the autopilot off and put it away."
   ]
  },
  {
   "cell_type": "markdown",
   "metadata": {},
   "source": [
    "# Appendix B - Reference Material\n",
    "\n",
    "**Requirements Gathering**\n",
    "\n",
    "https://cdn2.hubspot.net/hubfs/3909610/Gated%20%20Content/Requirement%20Gathering%20Questions.pdf\n",
    "\n",
    "https://www.its.leeds.ac.uk/projects/smartest/userq.html\n",
    "\n",
    "https://contentsnare.com/requirements-gathering-questionnaire/\n",
    "\n",
    "\n",
    "**Types of autopilots**\n",
    "\n",
    "https://www.raymarine.com/en-gb/learning/online-guides/what-are-the-different-types-of-boat-autopilot\n",
    "\n",
    "**Raymarine ST1000**\n",
    "\n",
    "https://raymarine.manymanuals.com/unknown/st1000-plus/specifications-1759/download\n",
    "\n",
    "\n",
    "**PID for autopilots**\n",
    "\n",
    "https://www.youtube.com/watch?v=qOL9JjkX_wg\n",
    "\n",
    "https://medium.com/@aleksej.gudkov/python-pid-controller-example-a-complete-guide-5f35589eec86\n",
    "\n",
    "\n",
    "**Low cost autopilots**\n",
    "\n",
    "https://www.youtube.com/watch?v=AcUbHVKtubM\n",
    "\n",
    "**Servo to Pi**\n",
    "\n",
    "https://www.instructables.com/Servo-Motor-Control-With-Raspberry-Pi/\n",
    "\n",
    "**ICM204948**\n",
    "\n",
    "https://github.com/pimoroni/icm20948-python\n",
    "\n",
    "**NEO6M GPS**\n",
    "\n",
    "https://www.youtube.com/watch?v=OWP3D-51vIc#\n",
    "\n",
    "https://sparklers-the-makers.github.io/blog/robotics/use-neo-6m-module-with-raspberry-pi/\n",
    "\n",
    "**NMEA Protocol**\n",
    "\n",
    "https://docs.arduino.cc/learn/communication/gps-nmea-data-101/\n",
    "\n",
    "**BMP280**\n",
    "\n",
    "https://iotstarters.com/configuring-bmp280-sensor-with-raspberry-pi/\n",
    "\n",
    "**Python Creating Moudlar Code in Python**\n",
    "\n",
    "https://www.youtube.com/watch?v=c_5pZYXCAuU\n",
    "\n",
    "https://www.w3schools.com/python/python_modules.asp\n",
    "\n",
    "**Service Layer**\n",
    "\n",
    "https://amihaiemil.com/2020/05/14/the-almighty-service-layer.html\n",
    "\n",
    "**SQLite**\n",
    "\n",
    "https://www.tutorialspoint.com/sqlite/sqlite_python.htm\n",
    "\n",
    "**MapBox Examples**\n",
    "\n",
    "https://www.mapbox.com/webinars/mapbox-python-anvil\n",
    "\n",
    "https://www.youtube.com/watch?v=GJeCk6q9gBk\n",
    "\n",
    "**Threading**\n",
    "\n",
    "https://www.w3schools.in/python/multithreaded-programming\n",
    "\n",
    "**OO in Python**\n",
    "\n",
    "https://www.datacamp.com/tutorial/python-oop-tutorial\n",
    "\n",
    "https://www.youtube.com/watch?v=q2SGW2VgwAM\n",
    "\n",
    "**First Order Systems**\n",
    "\n",
    "https://www.youtube.com/watch?v=aLktwqbgUXE\n",
    "\n",
    "**Using Flask**\n",
    "\n",
    "https://auth0.com/blog/developing-restful-apis-with-python-and-flask/\n"
   ]
  }
 ],
 "metadata": {
  "language_info": {
   "name": "python"
  }
 },
 "nbformat": 4,
 "nbformat_minor": 2
}
