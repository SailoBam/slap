{
 "cells": [
  {
   "cell_type": "markdown",
   "metadata": {},
   "source": [
    "# Evaluation"
   ]
  },
  {
   "cell_type": "markdown",
   "metadata": {},
   "source": [
    "## Introduction\n",
    "\n",
    "This section is an evaluation of the project. The first section is based on user feedback, followed by an evaluation of each project objective against the system's preformance."
   ]
  },
  {
   "cell_type": "markdown",
   "metadata": {},
   "source": [
    "## General User Feedback\n",
    "\"I have used francis' SLAP program which I accessed via the internet on my phone. I understood that this is the same as if I was using the system on my boat. Francis gave me a short tutorial explaining how to use the system and how to engage the simulator mode.\"\n",
    "\n",
    "\" I found the user interface easy to understand, perticularly because the functions of the system are as I would expect from other auto pilots. I used the simulator mode and then engaged the auto pilot imagining that I was the boat. I could see that the control system maintained the boat heading closely against the desired heading when the pilot is engaged. I was able to use the adjustment buttons to alter course as if I were avoiding obsticals. I was able to engage and disengage as and when needed. For example when I am tacking the boat.\"\n",
    "\n",
    "\"I found the compass display on the phone to be a useful addition to what you would normal see on an auto pilot. The ability to create trip logs is a nice feature not seen on most auto pilots. I thought it was very impressive that the logs could be uploaded to the internet to view at home.\"\n",
    "\n",
    "\"Overall I found the project to be impressive, and I am quite keen to have a go with the actuator really controlling the trim tabs on my boat to adjust the steering. An unexpected feature of francis' system is the low power consumption. From my experience the problem with commercial auto pilots is that it uses too much power as they must drive the rudders directly. With this system connected to the trim tabs the system can turn the rudder with little force requiring less power improving its feasiblility to engage the auto pilot for many hours.\""
   ]
  },
  {
   "cell_type": "markdown",
   "metadata": {},
   "source": [
    "Hand steering the boat onto the desired course and trimming the sails ready to balance the boat to engage the autopilot. Once using the autopilot I would be keeping an eye on the course from time to time. If the wind changed, I would need to alter the sails and the pilot to stay on course. When finishing I want a quick way of disconnecting it.\n",
    "\n",
    "\n",
    "Get the boat sailing on required course with sails trimmed accordingly.\n",
    "Switch on autopilot to continue on desired course.\n",
    "Might need to interact with autopilot to avoid obstacles ahead eg other boats, buoys etc. Once clear of an obstruction set autopilot back on desired course.\n",
    "If I need to change direction, eg rounding a headland then I would adjust the course again using the controls on the autopilot.\n",
    "If I have to tack, I would put the autopilot on standby and once settled on the new tack, give control back to the autopilot.\n",
    "Once arrived at my destination I would switch the autopilot off and put it away."
   ]
  },
  {
   "cell_type": "markdown",
   "metadata": {},
   "source": [
    "## Evaluation against objectives\n",
    "\n",
    "| **Objective**  | **Summary** | **Evaluation** | **Method** | **Status** |\n",
    "|------------|---------|------------|--------|--------|\n",
    "| 1 | Maintain steady course using closed loop control | The PID controller successfully maintains course within ±5 degrees in simulator testing | PID control system implemented and tested in simulator | Complete |\n",
    "| 2 | Allow manual tuning during travel | Users can adjust heading via UI buttons and compass display | UI controls for course adjustment implemented and validated through user testing | Complete |\n",
    "| 3 | Steer boat for 10+ minutes | System can run continuously for extended periods in simulator | Extended simulator testing sessions conducted | Complete |\n",
    "| 4 | Accessible UI for marine conditions | Large buttons, clear compass display, high contrast design | User testing and feedback from experienced sailors | Complete |\n",
    "| 5 | Log system performance | All course data and adjustments logged to database | Database logging implemented and verified | Complete |\n",
    "| 6 | Database storage for passages | MongoDB database stores all trip data with unique IDs | Database schema designed and implemented | Complete |\n",
    "| 7 | Plot passage on map display | Mapbox integration allows viewing saved routes | Map display and route plotting tested | Complete |\n",
    "| 8 | Real-time course adjustment | PID controller makes continuous adjustments based on sensor data | Real-time control loop implemented and tested | Complete |\n"
   ]
  },
  {
   "cell_type": "markdown",
   "metadata": {},
   "source": [
    "# Objectives and Requirements\n",
    "\n",
    "General and Specific Objective\n",
    "\n",
    "- Maintain a steady course using a closed loop control system\n",
    "- Allow for manual tuning during travel, allowing for adjustment of angle to be made based on a compass bearing\n",
    "- Steer the boat for at least 10 minutes allowing for other tasks to be preformed\n",
    "- The user interface must be accessible for all users no matter the conditions on sea including angle adjustment and course viewing\n",
    "- Performance of the system must be logged allowing for review\n",
    "- A database should be used to store log data with entries for each individual passage made\n",
    "- To be able to use the user interface to plot a passage from a map display\n",
    "- The system must be able to automatically adjust its course in real time based on data input"
   ]
  },
  {
   "cell_type": "markdown",
   "metadata": {},
   "source": [
    "## Future Improvements"
   ]
  }
 ],
 "metadata": {
  "language_info": {
   "name": "python"
  }
 },
 "nbformat": 4,
 "nbformat_minor": 2
}
