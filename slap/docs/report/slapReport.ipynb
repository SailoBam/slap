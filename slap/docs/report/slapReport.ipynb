{
 "cells": [
  {
   "cell_type": "markdown",
   "metadata": {},
   "source": [
    "# Introduction"
   ]
  },
  {
   "cell_type": "markdown",
   "metadata": {},
   "source": [
    "Self Logging Auto Pilot (SLAP) is my AQA A Level NEA completed in 2025. The aim of this project is to develop a prototype real-time control system using low cost componentsm, featuring elements of software, robotics and electronics. The project has been an oppotunity to write a larger software system and gain experience of many programming techniques and to overcome the challenges that the project presented.\n",
    "\n",
    "The choice of this project was driven by my interests in sailing and real world control systems. I have also built a number of Python projects using Rasberry Pi and various hardware modules in the past. I have experience of hand steering a sailing boat for long periods at night. The project shares many aspects of aerospace engineering which I aim pursue in future. The project has been a successful learning experience and has included a number of difficult problems which took many hours of work to overcome.\n",
    "\n",
    "My approach to this project has been one of iterative development. I started the development work by creating experiments in python to test and understand the various parts of the system individually. These can be found in project files submitted along with this report. After this early work, I created Iteration0, this being the first version of SLAP. Each time realised the code needed restructuring I created new iteration. In the final iteration (Iteration2), I found the structure worked well enough to complete the project.\n",
    "\n",
    "One particular problem in this project is that it has not been possible to fully test the auto pilot on a sailing boat due to the season. To solve this problem this project included the computer modelling of boat steering dynamics. This allowed me to test my control system without the need of the physical boat. The other advantage of the building the simulator was that I developed a better understanding of the problem. The development of SLAP is both about meeting the user's needs but also about developing a real time closed loop control system.\n",
    "\n",
    "Throughout the development I used the Git source code repository to manage versions of my code and enable me to roll back my code when problems spiraled. I used a combination of manual testing and unit testing to ensure the functionality and I used a task list to manage my progress. My brother introduced me to jupyter notes which I have used to make this report. This was very useful as I can implement code and images into the report. I used Visual Studio Code for all the development of SLAP."
   ]
  }
 ],
 "metadata": {
  "kernelspec": {
   "display_name": "Python 3",
   "language": "python",
   "name": "python3"
  },
  "language_info": {
   "name": "python",
   "version": "3.11.9"
  }
 },
 "nbformat": 4,
 "nbformat_minor": 2
}
