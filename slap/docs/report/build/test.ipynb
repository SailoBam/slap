{
 "cells": [
  {
   "cell_type": "markdown",
   "metadata": {},
   "source": [
    "[@Nobody06] This is a citation.\n",
    "\n",
    "\n",
    "<cite data-cite=\"granger2013\">(Granger, 2013)</cite>\n"
   ]
  },
  {
   "cell_type": "markdown",
   "metadata": {},
   "source": [
    "hewerf\n",
    "\n",
    "sdaf\n",
    "\n",
    "![wqe](image_2_slapUseCases.drawio.png)\n",
    "\n",
    "<div>\n",
    "<img src=\"attachment:image_2_slapUseCases.drawio.png\" width=\"500\"/>\n",
    "</div>"
   ]
  },
  {
   "cell_type": "code",
   "execution_count": null,
   "metadata": {},
   "outputs": [],
   "source": [
    "display(Latex(r\"\\newpage\"))"
   ]
  },
  {
   "cell_type": "markdown",
   "metadata": {},
   "source": [
    "asdfaf"
   ]
  }
 ],
 "metadata": {
  "kernelspec": {
   "display_name": "Python (Molinia)",
   "language": "python",
   "name": "molinia"
  },
  "language_info": {
   "codemirror_mode": {
    "name": "ipython",
    "version": 3
   },
   "file_extension": ".py",
   "mimetype": "text/x-python",
   "name": "python",
   "nbconvert_exporter": "python",
   "pygments_lexer": "ipython3",
   "version": "3.13.2"
  }
 },
 "nbformat": 4,
 "nbformat_minor": 2
}
