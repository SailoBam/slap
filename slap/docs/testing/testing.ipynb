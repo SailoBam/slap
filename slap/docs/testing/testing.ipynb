{
 "cells": [
  {
   "cell_type": "code",
   "execution_count": 0,
   "cell_type": "markdown",
   "id": "a6cca5",
   "metadata": {
    "collapsed": false
   },
   "outputs": [
   ],
   "source": [
    "## Testing"
   ]
  },
  {
   "cell_type": "markdown",
   "id": "49d8f5",
   "metadata": {
    "collapsed": false
   },
   "source": [
    "| Test Number | Description | Data Type | Expected Outcome | Result | Evidence |\n",
    "| -------- | ------- | ------- | ------- | ------- | ------- |\n",
    "| 1  | Decode NMEA string    | Normal | Integer Value | Success | [] |\n"
   ]
  }
 ],
 "metadata": {
  "kernelspec": {
   "argv": [
    "/usr/bin/python3",
    "-m",
    "ipykernel",
    "--HistoryManager.enabled=False",
    "--matplotlib=inline",
    "-c",
    "%config InlineBackend.figure_formats = set(['retina'])\nimport matplotlib; matplotlib.rcParams['figure.figsize'] = (12, 7)",
    "-f",
    "{connection_file}"
   ],
   "display_name": "Python 3 (system-wide)",
   "env": {
   },
   "language": "python",
   "metadata": {
    "cocalc": {
     "description": "Python 3 programming language",
     "priority": 100,
     "url": "https://www.python.org/"
    }
   },
   "name": "python3",
   "resource_dir": "/ext/jupyter/kernels/python3"
  }
 },
 "nbformat": 4,
 "nbformat_minor": 4
}
