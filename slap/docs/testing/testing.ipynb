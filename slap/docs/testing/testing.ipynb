{
 "cells": [
  {
   "cell_type": "markdown",
   "id": "de3e25",
   "metadata": {
    "collapsed": false
   },
   "source": [
    "## Testing\n",
    "\n",
    "\n",
    "### Introduction\n",
    "\n",
    "Testing on the project source code consists of manual testing, where the user interfaces are tested to verify their expected functions.\n",
    "\n",
    "The tests are organised into functional modules according to the system design. The functional modules and the use cases are shown in the diagram, figure xyz.\n",
    "For each of the use case tests (manual) the underlying code is tested with automated unit tests."
   ]
  },
  {
   "cell_type": "markdown",
   "id": "49d8f5",
   "metadata": {
    "collapsed": false
   },
   "source": [
    "### Tests\n",
    "\n",
    "#### Config\n",
    "\n",
    "The following tests verify the systems configuration functions. The configuration system allows different control parameters to be arranged for different sea conditions.\n",
    "see section xyz for functional details\n",
    "\n",
    "| **Test Number** | **Use Case** | **Description** | **Data Type** | **Expected Outcome** | **Result** | **Evidence** |\n",
    "| -------- | ------- | ------- | ------- | ------- | ------- |\n",
    "| 1 | Default | The system behavour when no config is present | Normal | Created default config | [] | [] |\n",
    "| 2 | Create | User enters config values for a new control configuration | Normal | Config is saved to database | [] | [] |\n",
    "| 3 | Add Plugin | Adds a sensor definition and plugin code | Normal | Plugin is saved to database | [] | [] |\n",
    "| 4 | Edit | User changes a configuration's values | Normal | Edited config is saved to database | [] | [] |\n",
    "| 5 | Delete | User deletes a configuration | Normal | Config is removed from database | [] | [] |\n",
    "| 6 | Simulate | User enables simulator mode for the selected config | Normal | Simulator is started | [] | [] |\n",
    "\n",
    "\n",
    "#### Auto Pilot\n",
    "\n",
    "| **Test Number** | **Use Case** | **Description** | **Data Type** | **Expected Outcome** | **Result** | **Evidence** |\n",
    "| -------- | ------- | ------- | ------- | ------- | ------- |\n",
    "| 1 | Start/Stop | User starts or stops the autopilot | Normal | Autopilot starts or stops | [] | [] |\n",
    "| 2 | Adjust (+-) | User adjusts the autopilot settings | Normal | Settings are adjusted | [] | [] |\n",
    "| 3 | Set Direction | User sets the direction for the autopilot | Normal | Direction is set | [] | [] |\n",
    "\n",
    "#### Logging\n",
    "\n",
    "| **Test Number** | **Use Case** | **Description** | **Data Type** | **Expected Outcome** | **Result** | **Evidence** |\n",
    "| -------- | ------- | ------- | ------- | ------- | ------- |\n",
    "| 1 | Start/Stop | User starts or stops the logging | Normal | Logging starts or stops | [] | [] |\n",
    "| 2 | Upload | User uploads the log data | Normal | Log data is uploaded | [] | [] |\n",
    "| 3 | View | User views the log data | Normal | Log data is displayed | [] | [] |\n",
    "\n",
    "\n",
    "\n"
   ]
  },
  {
   "cell_type": "markdown",
   "id": "4861ea",
   "metadata": {
    "collapsed": false
   },
   "source": [
    "### Evidence\n",
    "\n",
    "**Test 1:**\n",
    "\n",
    "[Screenshot of returned integer]\n",
    "\n",
    "**Test 2:**\n",
    "\n",
    "[Screenshot of angle changing to new angle]\n",
    "\n",
    "**Test 3:**\n",
    "\n",
    "[Screenshot of client showing an error and the angle not changing]\n",
    "\n"
   ]
  }
 ],
 "metadata": {
  "kernelspec": {
   "argv": [
    "/usr/bin/python3",
    "-m",
    "ipykernel",
    "--HistoryManager.enabled=False",
    "--matplotlib=inline",
    "-c",
    "%config InlineBackend.figure_formats = set(['retina'])\nimport matplotlib; matplotlib.rcParams['figure.figsize'] = (12, 7)",
    "-f",
    "{connection_file}"
   ],
   "display_name": "Python 3 (system-wide)",
   "env": {},
   "language": "python",
   "metadata": {
    "cocalc": {
     "description": "Python 3 programming language",
     "priority": 100,
     "url": "https://www.python.org/"
    }
   },
   "name": "python3",
   "resource_dir": "/ext/jupyter/kernels/python3"
  }
 },
 "nbformat": 4,
 "nbformat_minor": 4
}
