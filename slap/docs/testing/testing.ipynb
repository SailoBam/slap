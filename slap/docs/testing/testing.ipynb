{
 "cells": [
  {
   "cell_type": "markdown",
   "id": "de3e25",
   "metadata": {
    "collapsed": false
   },
   "source": [
    "## Testing\n",
    "\n",
    "### Contents:\n",
    "\n",
    "* [Tests](#Tests)\n",
    "* [Evidence](#Evidence)\n",
    "\n"
   ]
  },
  {
   "cell_type": "markdown",
   "id": "49d8f5",
   "metadata": {
    "collapsed": false
   },
   "source": [
    "### Tests\n",
    "\n",
    "| **Test Number** | **Description** | **Data Type** | **Expected Outcome** | **Result** | **Evidence** |\n",
    "| -------- | ------- | ------- | ------- | ------- | ------- |\n",
    "| 1  | Decode NMEA string    | Normal | Integer Value | [] | [] |\n",
    "| 2 |Pressing buttons on web client changes target angle | Normal | Updated Angle Value | [] | [] |\n",
    "| 3 | Enter Value into set direction box between 0 - 359| Errorenous | Return an error and don't change Angle | [] | [] |\n",
    "\n"
   ]
  },
  {
   "cell_type": "markdown",
   "id": "4861ea",
   "metadata": {
    "collapsed": false
   },
   "source": [
    "### Evidence\n",
    "\n",
    "**Test 1:**\n",
    "\n",
    "[Screenshot of returned integer]\n",
    "\n",
    "**Test 2:**\n",
    "\n",
    "[Screenshot of angle changing to new angle]\n",
    "\n",
    "**Test 3:**\n",
    "\n",
    "[Screenshot of client showing an error and the angle not changing]\n",
    "\n"
   ]
  }
 ],
 "metadata": {
  "kernelspec": {
   "argv": [
    "/usr/bin/python3",
    "-m",
    "ipykernel",
    "--HistoryManager.enabled=False",
    "--matplotlib=inline",
    "-c",
    "%config InlineBackend.figure_formats = set(['retina'])\nimport matplotlib; matplotlib.rcParams['figure.figsize'] = (12, 7)",
    "-f",
    "{connection_file}"
   ],
   "display_name": "Python 3 (system-wide)",
   "env": {
   },
   "language": "python",
   "metadata": {
    "cocalc": {
     "description": "Python 3 programming language",
     "priority": 100,
     "url": "https://www.python.org/"
    }
   },
   "name": "python3",
   "resource_dir": "/ext/jupyter/kernels/python3"
  }
 },
 "nbformat": 4,
 "nbformat_minor": 4
}